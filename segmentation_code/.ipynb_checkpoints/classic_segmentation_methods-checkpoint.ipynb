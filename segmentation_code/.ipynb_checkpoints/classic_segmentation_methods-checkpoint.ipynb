{
 "cells": [
  {
   "cell_type": "code",
   "execution_count": 1,
   "metadata": {},
   "outputs": [],
   "source": [
    "\"\"\"\n",
    "## Purpose of script: Segment and visualise bird specimen images using thresholding, region growing, chan-vese and graph cut. \n",
    "##\n",
    "## Author: Yichen He\n",
    "## Date: 2022/07\n",
    "## Email: csyichenhe@gmail.com\n",
    "\"\"\"\n",
    "\n",
    "import pandas as pd\n",
    "import numpy as np\n",
    "import os,sys\n",
    "import re\n",
    "import cv2\n",
    "from scipy import stats,ndimage\n",
    "\n",
    "import matplotlib.pyplot as plt\n",
    "%matplotlib inline\n",
    "from skimage.segmentation import morphological_chan_vese\n",
    "\n"
   ]
  },
  {
   "cell_type": "code",
   "execution_count": 13,
   "metadata": {},
   "outputs": [
    {
     "data": {
      "text/plain": [
       "<matplotlib.image.AxesImage at 0x2d7b1ac7848>"
      ]
     },
     "execution_count": 13,
     "metadata": {},
     "output_type": "execute_result"
    },
    {
     "data": {
      "image/png": "[encoded data removed]",
      "text/plain": [
       "<Figure size 432x288 with 1 Axes>"
      ]
     },
     "metadata": {
      "needs_background": "light"
     },
     "output_type": "display_data"
    }
   ],
   "source": [
    "#### Thresholding with the modal of images ####\n",
    "\n",
    "# read an example image\n",
    "img = cv2.imread(\"data/img/Acanthagenys_rufogularis_1_M_Back_Vis_Y070374.jpg\")\n",
    "scale=1\n",
    "height, width = img.shape[:2]\n",
    "\n",
    "## preprocessing- resize, convert to gray scale, gaussian blur the images.\n",
    "img = cv2.resize(img,(width//scale, height//scale))\n",
    "img = cv2.cvtColor(img, cv2.COLOR_BGR2GRAY)\n",
    "img = cv2.GaussianBlur(img,(11,11),cv2.BORDER_REFLECT)\n",
    "\n",
    "\n",
    "# modal plus 15 offset and apply thresholding\n",
    "threshold = (stats.mode(img.flatten())[0][0] + 15)\n",
    "\n",
    "ret, thresh = cv2.threshold(img, threshold,\n",
    "                            255,cv2.THRESH_BINARY)\n",
    "\n",
    "## post-processing \n",
    "# morpho close and open\n",
    "kernel = np.ones((5,5),np.uint8)\n",
    "opening = cv2.morphologyEx(thresh,cv2.MORPH_OPEN,kernel, iterations = 1)\n",
    "\n",
    "closing = cv2.morphologyEx(opening, cv2.MORPH_CLOSE, kernel , iterations = 1)\n",
    "\n",
    "# Get the connected componenets that have area larger than 2500 pixel^2\n",
    "nb_components, output, sizes, centroids = cv2.connectedComponentsWithStats(closing, connectivity=8)\n",
    "sizes = sizes[1:, -1]; nb_components = nb_components - 1\n",
    "min_size = 2500\n",
    "\n",
    "for i_seg,size in enumerate(sizes):\n",
    "    if size > min_size:\n",
    "        final_mask = output ==i_seg +1\n",
    "        break\n",
    "\n",
    "##plot the mask\n",
    "final_mask = final_mask.astype('uint8')\n",
    "final_mask = cv2.resize(final_mask, (4948 , 3280))\n",
    "plt.imshow(final_mask)\n",
    "\n"
   ]
  },
  {
   "cell_type": "code",
   "execution_count": 3,
   "metadata": {},
   "outputs": [],
   "source": [
    "## Read the point annotation file for region growing, chan-vese and graph cut\n",
    "df_point = pd.read_csv(\"data/demo_point_annotations.csv\",index_col='file.vis')\n",
    "\n",
    "coords_cols = ['crown_x', 'crown_y', 'nape_x','nape_y', 'mantle_x', 'mantle_y', 'rump_x', 'rump_y', 'tail_x','tail_y', \n",
    "        'throat_x', 'throat_y', 'breast_x', 'breast_y', \n",
    " 'belly_x','belly_y', 'coverts_x', 'coverts_y', 'flight_feathers_x','flight_feathers_y']\n",
    "\n",
    "std_cols = ['s02.standard_x', 's02.standard_y', 's20.standard_x', 's20.standard_y','s40.standard_x',\n",
    "            's40.standard_y', 's80.standard_x', 's80.standard_y','s99.standard_x', 's99.standard_y']"
   ]
  },
  {
   "cell_type": "code",
   "execution_count": 25,
   "metadata": {
    "scrolled": true
   },
   "outputs": [
    {
     "data": {
      "text/plain": [
       "<matplotlib.image.AxesImage at 0x2d7aa384348>"
      ]
     },
     "execution_count": 25,
     "metadata": {},
     "output_type": "execute_result"
    },
    {
     "data": {
      "image/png": "[encoded data removed]",
      "text/plain": [
       "<Figure size 432x288 with 1 Axes>"
      ]
     },
     "metadata": {
      "needs_background": "light"
     },
     "output_type": "display_data"
    }
   ],
   "source": [
    "#### Region growing ####\n",
    "\n",
    "img_name = \"Abeillia_abeillei_1_M_Back_Vis_G199130.jpg\"\n",
    "img = cv2.imread(\"data/img/\" + img_name) \n",
    "scale=1\n",
    "\n",
    "# parameters for region growing\n",
    "floodflags = 4\n",
    "floodflags |= cv2.FLOODFILL_MASK_ONLY\n",
    "floodflags |= cv2.FLOODFILL_FIXED_RANGE\n",
    "\n",
    "# parameters for region growing upper and lower boundary\n",
    "lower = 6\n",
    "upper = 30\n",
    "\n",
    "height, width = img.shape[:2]\n",
    "\n",
    "\n",
    "## preprocessing- resize, convert to gray scale, gaussian blur the images.\n",
    "img = cv2.resize(img,(width//scale, height//scale))\n",
    "img = cv2.GaussianBlur(img,(5,5),cv2.BORDER_REFLECT)\n",
    "img = cv2.cvtColor(img, cv2.COLOR_BGR2GRAY)\n",
    "final_mask = np.zeros((img.shape[0],img.shape[1]),np.uint8)\n",
    "\n",
    "\n",
    "### place the seeds using the point annotations\n",
    "\n",
    "# find the row int the point annotation file\n",
    "row = df_point.loc[img_name,]\n",
    "for col_x, col_y in zip(coords_cols[::2] , coords_cols[1::2]):\n",
    "    x = row[col_x]\n",
    "    y = row[col_y]\n",
    "    if x !=-1:\n",
    "\n",
    "        seed_pt = (int(x//scale),int(y//scale))            \n",
    "        mask = np.zeros((img.shape[0]+2,img.shape[1]+2),np.uint8)\n",
    "\n",
    "        value = img[seed_pt[1] , seed_pt[0]]\n",
    "        temp_lower = lower\n",
    "        temp_upper = upper\n",
    "        # if value >mode and value - lower <= mode:\n",
    "        #     temp_lower = 0\n",
    "        # if value< mode and value + upper >=mode:\n",
    "        #     temp_upper = 0\n",
    "\n",
    "        a = cv2.floodFill(img, mask, seed_pt, 255, loDiff = temp_lower,\n",
    "                          upDiff = temp_upper, flags  = floodflags )\n",
    "\n",
    "        mask = mask[1:-1,1:-1]\n",
    "\n",
    "        final_mask = np.logical_or(final_mask,mask)\n",
    "\n",
    "# post processing\n",
    "final_mask = ndimage.binary_fill_holes(final_mask)\n",
    "\n",
    "plt.imshow(final_mask)"
   ]
  },
  {
   "cell_type": "code",
   "execution_count": 33,
   "metadata": {},
   "outputs": [
    {
     "data": {
      "text/plain": [
       "[1935, 2077, 2283, 2593, 2925]"
      ]
     },
     "execution_count": 33,
     "metadata": {},
     "output_type": "execute_result"
    }
   ],
   "source": [
    "    \n",
    "row = df_point.loc[img_name,]\n",
    "for col_x, col_y in zip(coords_cols[::2] , coords_cols[1::2]):\n",
    "    x = row[col_x]\n",
    "    y = row[col_y]\n",
    "\n",
    "    if x !=-1:\n",
    "       \n",
    "        \n",
    "        y_l = int((y-10)//scale)\n",
    "        y_u = int((y+10)//scale)\n",
    "\n",
    "        x_l = int((x-10)//scale)\n",
    "        x_u = int((x+10)//scale)\n",
    "        final_init[y_l:y_u , x_l:x_u]=1\n"
   ]
  },
  {
   "cell_type": "code",
   "execution_count": 41,
   "metadata": {},
   "outputs": [
    {
     "data": {
      "text/plain": [
       "<matplotlib.image.AxesImage at 0x2d790ab8b88>"
      ]
     },
     "execution_count": 41,
     "metadata": {},
     "output_type": "execute_result"
    },
    {
     "data": {
      "image/png": "[encoded data removed]",
      "text/plain": [
       "<Figure size 432x288 with 1 Axes>"
      ]
     },
     "metadata": {
      "needs_background": "light"
     },
     "output_type": "display_data"
    }
   ],
   "source": [
    "### Chan vese ####\n",
    "img_name = \"Acanthagenys_rufogularis_1_M_Back_Vis_Y070374.jpg\"\n",
    "\n",
    "img = cv2.imread(\"data/img/\" + img_name) \n",
    "\n",
    "# pre-processing\n",
    "scale=10\n",
    "height, width = img.shape[:2]\n",
    "img = cv2.resize(img,(width//scale, height//scale))\n",
    "img = cv2.cvtColor(img, cv2.COLOR_BGR2GRAY)\n",
    "\n",
    "init = np.zeros((img.shape[0],img.shape[1]),np.uint8)\n",
    "\n",
    "\n",
    "## use the point coordinates as the initial information for chan-vese    \n",
    "row = df_point.loc[img_name,]\n",
    "for col_x, col_y in zip(coords_cols[::2] , coords_cols[1::2]):\n",
    "    x = row[col_x]\n",
    "    y = row[col_y]\n",
    "\n",
    "    if x !=-1:\n",
    "       \n",
    "        \n",
    "        y_l = int((y-10)//scale)\n",
    "        y_u = int((y+10)//scale)\n",
    "\n",
    "        x_l = int((x-10)//scale)\n",
    "        x_u = int((x+10)//scale)\n",
    "        init[y_l:y_u , x_l:x_u]=1\n",
    "\n",
    "\n",
    "# apply chan-vese\n",
    "mask = morphological_chan_vese(img, iterations=100,init_level_set=init,smoothing=0)\n",
    "# post processing\n",
    "mask = ndimage.binary_fill_holes(mask)\n",
    "\n",
    "\n",
    "plt.imshow(mask)\n"
   ]
  },
  {
   "cell_type": "code",
   "execution_count": 18,
   "metadata": {},
   "outputs": [
    {
     "data": {
      "text/plain": [
       "<matplotlib.image.AxesImage at 0x1b4f8910248>"
      ]
     },
     "execution_count": 18,
     "metadata": {},
     "output_type": "execute_result"
    },
    {
     "data": {
      "image/png": "[encoded data removed]",
      "text/plain": [
       "<Figure size 432x288 with 1 Axes>"
      ]
     },
     "metadata": {
      "needs_background": "light"
     },
     "output_type": "display_data"
    }
   ],
   "source": [
    "### Graph cut ####\n",
    "\n",
    "img_name = 'Abeillia_abeillei_1_M_Back_Vis_G199130.jpg'\n",
    "img = cv2.imread('data/img/' + img_name )\n",
    "# pre-processing\n",
    "scale=10\n",
    "height, width = img.shape[:2]\n",
    "img = cv2.resize(img,(width//scale, height//scale))\n",
    "\n",
    "\n",
    "# init the background and foreground model\n",
    "bgdModel = np.zeros((1,65),np.float64)\n",
    "fgdModel = np.zeros((1,65),np.float64)\n",
    "\n",
    "## init the mask as the input of graph cut (1: foreground. 0 background)\n",
    "mask = np.zeros(img.shape[:2],np.uint8)\n",
    "row = df_point.loc[img_name,]        \n",
    "## draw lines between body region points for the foreground\n",
    "x_list=[]\n",
    "y_list=[]\n",
    "for col_x, col_y in zip(coords_cols[::2] , coords_cols[1::2]):\n",
    "    x = row[col_x]\n",
    "    y = row[col_y]\n",
    "\n",
    "    if x !=-1:\n",
    "        x_list.append(x)\n",
    "        y_list.append(y)\n",
    "\n",
    "if len(x_list) == 1:\n",
    "    y_l = int((y_list[0]-50)//scale)\n",
    "    y_u = int((y_list[0]+50)//scale)\n",
    "\n",
    "    x_l = int((x_list[0]-100)//scale)\n",
    "    x_u = int((x_list[0]+100)//scale)\n",
    "    final_init[y_l:y_u , x_l:x_u]=1\n",
    "else:\n",
    "    for i in range(len(x_list)-1):\n",
    "\n",
    "        y_1 = int((y_list[i])//scale)\n",
    "        y_2 = int((y_list[i+1])//scale)\n",
    "\n",
    "        x_1 = int((x_list[i])//scale)\n",
    "        x_2 = int((x_list[i+1])//scale)\n",
    "\n",
    "        cv2.line(mask, (x_1,y_1), (x_2,y_2), 1, 20)\n",
    "        \n",
    "\n",
    "\n",
    "cv2.grabCut(img,mask,None,bgdModel,fgdModel,5,cv2.GC_INIT_WITH_MASK)\n",
    "\n",
    "mask2 = np.where((mask==2)|(mask==0),0,1).astype('uint8')\n",
    "img = img*mask2[:,:,np.newaxis]\n",
    "                \n",
    "plt.imshow(mask2)"
   ]
  }
 ],
 "metadata": {
  "kernelspec": {
   "display_name": "Python 3",
   "language": "python",
   "name": "python3"
  },
  "language_info": {
   "codemirror_mode": {
    "name": "ipython",
    "version": 3
   },
   "file_extension": ".py",
   "mimetype": "text/x-python",
   "name": "python",
   "nbconvert_exporter": "python",
   "pygments_lexer": "ipython3",
   "version": "3.7.6"
  }
 },
 "nbformat": 4,
 "nbformat_minor": 4
}
